{
 "cells": [
  {
   "cell_type": "markdown",
   "id": "153617f4-9d94-4863-a735-f63564aecbe4",
   "metadata": {},
   "source": [
    "<h1> This notebook will be used for the capstone project in the IBM Data Science Certification series of courses</h1>"
   ]
  },
  {
   "cell_type": "code",
   "execution_count": 1,
   "id": "0bffd1a3-6fee-41d2-9321-9360eb72f255",
   "metadata": {},
   "outputs": [],
   "source": [
    "import pandas as pd\n",
    "import numpy as np"
   ]
  },
  {
   "cell_type": "code",
   "execution_count": 2,
   "id": "33f2b50f-f1ec-4410-9682-9def7564c278",
   "metadata": {},
   "outputs": [
    {
     "name": "stdout",
     "output_type": "stream",
     "text": [
      "Hello Capstone Project Course!\n"
     ]
    }
   ],
   "source": [
    "print(\"Hello Capstone Project Course!\")"
   ]
  },
  {
   "cell_type": "code",
   "execution_count": null,
   "id": "68592a92-8de3-4640-8a65-89a2cd410d21",
   "metadata": {},
   "outputs": [],
   "source": []
  }
 ],
 "metadata": {
  "kernelspec": {
   "display_name": "Python",
   "language": "python",
   "name": "conda-env-python-py"
  },
  "language_info": {
   "codemirror_mode": {
    "name": "ipython",
    "version": 3
   },
   "file_extension": ".py",
   "mimetype": "text/x-python",
   "name": "python",
   "nbconvert_exporter": "python",
   "pygments_lexer": "ipython3",
   "version": "3.6.13"
  }
 },
 "nbformat": 4,
 "nbformat_minor": 5
}
